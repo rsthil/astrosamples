{
  "nbformat": 4,
  "nbformat_minor": 0,
  "metadata": {
    "colab": {
      "name": "Untitled1.ipynb",
      "provenance": [],
      "authorship_tag": "ABX9TyMenogzUP2/ogSxHwCKaS7G",
      "include_colab_link": true
    },
    "kernelspec": {
      "name": "python3",
      "display_name": "Python 3"
    }
  },
  "cells": [
    {
      "cell_type": "markdown",
      "metadata": {
        "id": "view-in-github",
        "colab_type": "text"
      },
      "source": [
        "<a href=\"https://colab.research.google.com/github/rsthil/astrosamples/blob/master/courseera_.ipynb\" target=\"_parent\"><img src=\"https://colab.research.google.com/assets/colab-badge.svg\" alt=\"Open In Colab\"/></a>"
      ]
    },
    {
      "cell_type": "code",
      "metadata": {
        "id": "_BkSc79O4B7p",
        "colab_type": "code",
        "colab": {
          "base_uri": "https://localhost:8080/",
          "height": 54
        },
        "outputId": "09da1936-b193-4d0b-adbd-3c46165fa63b"
      },
      "source": [
        "a1=\"these are 1 and only things .There's a place in things\"\n",
        "a=\"there There are only very few humans in the world ,perhaps! very out of few there in \\\n",
        "the wonderfull big world. a conterversy isn't it...\"\n",
        "punctuations = '''!()-[]{};:'\"\\,<>./?@#$%^&*_~'''\n",
        "uninteresting_words = [\"the\", \"a\", \"to\", \"if\", \"is\", \"it\", \"of\", \"and\", \"or\", \"an\", \"as\", \"i\", \"me\", \"my\", \\\n",
        "    \"we\", \"our\", \"ours\", \"you\", \"your\", \"yours\", \"he\", \"she\", \"him\", \"his\", \"her\", \"hers\", \"its\", \"they\", \"them\", \\\n",
        "    \"their\", \"what\", \"which\", \"who\", \"whom\", \"this\", \"that\", \"am\", \"are\", \"was\", \"were\", \"be\", \"been\", \"being\", \\\n",
        "    \"have\", \"has\", \"had\", \"do\", \"does\", \"did\", \"but\", \"at\", \"by\", \"with\", \"from\", \"here\", \"when\", \"where\", \"how\", \\\n",
        "    \"all\", \"any\", \"both\", \"each\", \"few\", \"more\", \"some\", \"such\", \"no\", \"nor\", \"too\", \"very\", \"can\", \"will\", \"just\"]\n",
        "\n",
        "def process_text(ip,skipwords=uninteresting_words,skip_chars=punctuations):\n",
        "    \"\"\" Splits the input text into words and validates for alpha and count the frequencies each word occur. The skipwords and punctuations are optional \"\"\"\n",
        "    #split the input\n",
        "    raw_words=ip.split()\n",
        "    #declare empty dictionary\n",
        "    wc_dict={}\n",
        "    #iterate words\n",
        "    for word in raw_words:\n",
        "        #convert each lower and strip\n",
        "        word=word.lower().strip()\n",
        "        #check for alpha and not available in uniterstingwords and puncutations\n",
        "        if word.isalpha() and word not in uninteresting_words  and word not in punctuations:\n",
        "            if word not in wc_dict.keys():\n",
        "                wc_dict[word]=1\n",
        "            else:\n",
        "                wc_dict[word]+=1\n",
        "    return wc_dict\n",
        "   \n",
        "print(process_text(a))\n"
      ],
      "execution_count": 55,
      "outputs": [
        {
          "output_type": "stream",
          "text": [
            "{'there': 3, 'only': 1, 'humans': 1, 'in': 2, 'world': 1, 'out': 1, 'wonderfull': 1, 'big': 1, 'conterversy': 1}\n"
          ],
          "name": "stdout"
        }
      ]
    },
    {
      "cell_type": "code",
      "metadata": {
        "id": "GvsfZgy5FyMQ",
        "colab_type": "code",
        "colab": {}
      },
      "source": [
        ""
      ],
      "execution_count": 45,
      "outputs": []
    }
  ]
}